{
  "nbformat": 4,
  "nbformat_minor": 0,
  "metadata": {
    "colab": {
      "name": "seminarioITBA_PIPELINE.ipynb",
      "provenance": [],
      "collapsed_sections": [],
      "authorship_tag": "ABX9TyO+bazpZWDd8dNaGBW4q2Iv",
      "include_colab_link": true
    },
    "kernelspec": {
      "name": "python3",
      "display_name": "Python 3"
    },
    "language_info": {
      "name": "python"
    }
  },
  "cells": [
    {
      "cell_type": "markdown",
      "metadata": {
        "id": "view-in-github",
        "colab_type": "text"
      },
      "source": [
        "<a href=\"https://colab.research.google.com/github/gusper01/seminarioITBA/blob/gh-pages/seminarioITBA_PIPELINE.ipynb\" target=\"_parent\"><img src=\"https://colab.research.google.com/assets/colab-badge.svg\" alt=\"Open In Colab\"/></a>"
      ]
    },
    {
      "cell_type": "markdown",
      "metadata": {
        "id": "-oru6mECqTHD"
      },
      "source": [
        "# **Configuración SPARK en COLAB**"
      ]
    },
    {
      "cell_type": "code",
      "metadata": {
        "colab": {
          "base_uri": "https://localhost:8080/"
        },
        "id": "x8KeSwUzvbAp",
        "outputId": "40e08d21-7ed0-40c6-bfbf-5858dc0812ba"
      },
      "source": [
        "#Se debe instalar JVM para usar spark\n",
        "!apt-get install openjdk-8-jdk-headless -qq > /dev/null\n",
        "import os # libreria de manejo del sistema operativo\n",
        "os.system(\"wget -q https://www-us.apache.org/dist/spark/spark-2.4.5/spark-2.4.5-bin-hadoop2.7.tgz\")\n",
        "os.system(\"tar xf /spark-2.4.5-bin-hadoop2.7.tgz\")\n",
        "# instalar pyspark\n",
        "!pip install -q pyspark\n",
        "# cargar data de prediccion (Generada en el colab de EDA)\n",
        "# https://github.com/gusper01/seminarioITBA/blob/gh-pages/seminarioITBA_EDA.ipynb\n",
        "os.system(\"wget -q https://raw.githubusercontent.com/gusper01/seminarioITBA/gh-pages/data/datatotal01102021v1.csv\")"
      ],
      "execution_count": 1,
      "outputs": [
        {
          "output_type": "stream",
          "name": "stdout",
          "text": [
            "\u001b[K     |████████████████████████████████| 212.4 MB 55 kB/s \n",
            "\u001b[K     |████████████████████████████████| 198 kB 56.5 MB/s \n",
            "\u001b[?25h  Building wheel for pyspark (setup.py) ... \u001b[?25l\u001b[?25hdone\n"
          ]
        },
        {
          "output_type": "execute_result",
          "data": {
            "text/plain": [
              "0"
            ]
          },
          "metadata": {},
          "execution_count": 1
        }
      ]
    },
    {
      "cell_type": "code",
      "metadata": {
        "id": "_m0m7jep_FYH"
      },
      "source": [
        "from pyspark.sql import SparkSession\n",
        "\n",
        "spark = SparkSession.builder\\\n",
        "        .master(\"local\")\\\n",
        "        .appName(\"SeminarioITBA\")\\\n",
        "        .config('spark.ui.port', '4050')\\\n",
        "        .getOrCreate()"
      ],
      "execution_count": 2,
      "outputs": []
    },
    {
      "cell_type": "code",
      "metadata": {
        "colab": {
          "base_uri": "https://localhost:8080/",
          "height": 216
        },
        "id": "KKdzTA9m_LnT",
        "outputId": "d4640bf2-b22b-4945-d318-95677026dd6c"
      },
      "source": [
        "spark"
      ],
      "execution_count": 3,
      "outputs": [
        {
          "output_type": "execute_result",
          "data": {
            "text/html": [
              "\n",
              "            <div>\n",
              "                <p><b>SparkSession - in-memory</b></p>\n",
              "                \n",
              "        <div>\n",
              "            <p><b>SparkContext</b></p>\n",
              "\n",
              "            <p><a href=\"http://f20a8cd54a27:4050\">Spark UI</a></p>\n",
              "\n",
              "            <dl>\n",
              "              <dt>Version</dt>\n",
              "                <dd><code>v3.1.2</code></dd>\n",
              "              <dt>Master</dt>\n",
              "                <dd><code>local</code></dd>\n",
              "              <dt>AppName</dt>\n",
              "                <dd><code>SeminarioITBA</code></dd>\n",
              "            </dl>\n",
              "        </div>\n",
              "        \n",
              "            </div>\n",
              "        "
            ],
            "text/plain": [
              "<pyspark.sql.session.SparkSession at 0x7f5a5a25be10>"
            ]
          },
          "metadata": {},
          "execution_count": 3
        }
      ]
    },
    {
      "cell_type": "markdown",
      "metadata": {
        "id": "RcEuq_pSrO_Z"
      },
      "source": [
        "# **Creación Dataframe Spark con data de ML**"
      ]
    },
    {
      "cell_type": "code",
      "metadata": {
        "id": "mAA-VJGzBO--"
      },
      "source": [
        "#pipeline_proc = \"https://raw.githubusercontent.com/gusper01/seminarioITBA/gh-pages/data/datatotal01102021v.csv\"\n",
        "# Continuacion del Pipelie: Se genera Dataframe de Spark desde el dataset con la predicción producto del proceso\n",
        "# de modelado de ML (se trae desde GITHUB )\n",
        "p = \"datatotal01102021v1.csv\"\n",
        "df_spark = spark.read.csv(p, header=True, inferSchema=True)\n"
      ],
      "execution_count": 4,
      "outputs": []
    },
    {
      "cell_type": "code",
      "metadata": {
        "colab": {
          "base_uri": "https://localhost:8080/"
        },
        "id": "jo0lM-aFd6ya",
        "outputId": "27e587bd-f3b3-4c9e-f243-b1160aecccfa"
      },
      "source": [
        "df_spark.printSchema()"
      ],
      "execution_count": 6,
      "outputs": [
        {
          "output_type": "stream",
          "name": "stdout",
          "text": [
            "root\n",
            " |-- MSSubClass: integer (nullable = true)\n",
            " |-- MSZoning: string (nullable = true)\n",
            " |-- LotFrontage: double (nullable = true)\n",
            " |-- LotArea: integer (nullable = true)\n",
            " |-- Street: string (nullable = true)\n",
            " |-- Alley: string (nullable = true)\n",
            " |-- LotShape: string (nullable = true)\n",
            " |-- LandContour: string (nullable = true)\n",
            " |-- Utilities: string (nullable = true)\n",
            " |-- LotConfig: string (nullable = true)\n",
            " |-- LandSlope: string (nullable = true)\n",
            " |-- Neighborhood: string (nullable = true)\n",
            " |-- Condition1: string (nullable = true)\n",
            " |-- Condition2: string (nullable = true)\n",
            " |-- BldgType: string (nullable = true)\n",
            " |-- HouseStyle: string (nullable = true)\n",
            " |-- OverallQual: integer (nullable = true)\n",
            " |-- OverallCond: integer (nullable = true)\n",
            " |-- YearBuilt: integer (nullable = true)\n",
            " |-- YearRemodAdd: integer (nullable = true)\n",
            " |-- RoofStyle: string (nullable = true)\n",
            " |-- RoofMatl: string (nullable = true)\n",
            " |-- Exterior1st: string (nullable = true)\n",
            " |-- Exterior2nd: string (nullable = true)\n",
            " |-- MasVnrType: string (nullable = true)\n",
            " |-- MasVnrArea: double (nullable = true)\n",
            " |-- ExterQual: string (nullable = true)\n",
            " |-- ExterCond: string (nullable = true)\n",
            " |-- Foundation: string (nullable = true)\n",
            " |-- BsmtQual: string (nullable = true)\n",
            " |-- BsmtCond: string (nullable = true)\n",
            " |-- BsmtExposure: string (nullable = true)\n",
            " |-- BsmtFinType1: string (nullable = true)\n",
            " |-- BsmtFinSF1: double (nullable = true)\n",
            " |-- BsmtFinType2: string (nullable = true)\n",
            " |-- BsmtFinSF2: double (nullable = true)\n",
            " |-- BsmtUnfSF: double (nullable = true)\n",
            " |-- TotalBsmtSF: double (nullable = true)\n",
            " |-- Heating: string (nullable = true)\n",
            " |-- HeatingQC: string (nullable = true)\n",
            " |-- CentralAir: string (nullable = true)\n",
            " |-- Electrical: string (nullable = true)\n",
            " |-- 1stFlrSF: integer (nullable = true)\n",
            " |-- 2ndFlrSF: integer (nullable = true)\n",
            " |-- LowQualFinSF: integer (nullable = true)\n",
            " |-- GrLivArea: integer (nullable = true)\n",
            " |-- BsmtFullBath: double (nullable = true)\n",
            " |-- BsmtHalfBath: double (nullable = true)\n",
            " |-- FullBath: integer (nullable = true)\n",
            " |-- HalfBath: integer (nullable = true)\n",
            " |-- BedroomAbvGr: integer (nullable = true)\n",
            " |-- KitchenAbvGr: integer (nullable = true)\n",
            " |-- KitchenQual: string (nullable = true)\n",
            " |-- TotRmsAbvGrd: integer (nullable = true)\n",
            " |-- Functional: string (nullable = true)\n",
            " |-- Fireplaces: integer (nullable = true)\n",
            " |-- FireplaceQu: string (nullable = true)\n",
            " |-- GarageType: string (nullable = true)\n",
            " |-- GarageYrBlt: double (nullable = true)\n",
            " |-- GarageFinish: string (nullable = true)\n",
            " |-- GarageCars: double (nullable = true)\n",
            " |-- GarageArea: double (nullable = true)\n",
            " |-- GarageQual: string (nullable = true)\n",
            " |-- GarageCond: string (nullable = true)\n",
            " |-- PavedDrive: string (nullable = true)\n",
            " |-- WoodDeckSF: integer (nullable = true)\n",
            " |-- OpenPorchSF: integer (nullable = true)\n",
            " |-- EnclosedPorch: integer (nullable = true)\n",
            " |-- 3SsnPorch: integer (nullable = true)\n",
            " |-- ScreenPorch: integer (nullable = true)\n",
            " |-- PoolArea: integer (nullable = true)\n",
            " |-- PoolQC: string (nullable = true)\n",
            " |-- Fence: string (nullable = true)\n",
            " |-- MiscFeature: string (nullable = true)\n",
            " |-- MiscVal: integer (nullable = true)\n",
            " |-- MoSold: integer (nullable = true)\n",
            " |-- YrSold: integer (nullable = true)\n",
            " |-- SaleType: string (nullable = true)\n",
            " |-- SaleCondition: string (nullable = true)\n",
            " |-- MedNhbdArea: double (nullable = true)\n",
            " |-- Id: integer (nullable = true)\n",
            " |-- SalePrice: double (nullable = true)\n",
            "\n"
          ]
        }
      ]
    },
    {
      "cell_type": "code",
      "metadata": {
        "colab": {
          "base_uri": "https://localhost:8080/"
        },
        "id": "_w4t2kXxnmiA",
        "outputId": "23aac4b2-04cd-4c97-a4cf-09e1f0e9c810"
      },
      "source": [
        "# Visualizar Dataframe Spark\n",
        "df_spark.show()"
      ],
      "execution_count": 7,
      "outputs": [
        {
          "output_type": "stream",
          "name": "stdout",
          "text": [
            "+----------+--------+-----------+-------+------+-----+--------+-----------+---------+---------+---------+------------+----------+----------+--------+----------+-----------+-----------+---------+------------+---------+--------+-----------+-----------+----------+----------+---------+---------+----------+--------+--------+------------+------------+----------+------------+----------+---------+-----------+-------+---------+----------+----------+--------+--------+------------+---------+------------+------------+--------+--------+------------+------------+-----------+------------+----------+----------+-----------+----------+-----------+------------+----------+----------+----------+----------+----------+----------+-----------+-------------+---------+-----------+--------+------+-----+-----------+-------+------+------+--------+-------------+-----------+----+---------+\n",
            "|MSSubClass|MSZoning|LotFrontage|LotArea|Street|Alley|LotShape|LandContour|Utilities|LotConfig|LandSlope|Neighborhood|Condition1|Condition2|BldgType|HouseStyle|OverallQual|OverallCond|YearBuilt|YearRemodAdd|RoofStyle|RoofMatl|Exterior1st|Exterior2nd|MasVnrType|MasVnrArea|ExterQual|ExterCond|Foundation|BsmtQual|BsmtCond|BsmtExposure|BsmtFinType1|BsmtFinSF1|BsmtFinType2|BsmtFinSF2|BsmtUnfSF|TotalBsmtSF|Heating|HeatingQC|CentralAir|Electrical|1stFlrSF|2ndFlrSF|LowQualFinSF|GrLivArea|BsmtFullBath|BsmtHalfBath|FullBath|HalfBath|BedroomAbvGr|KitchenAbvGr|KitchenQual|TotRmsAbvGrd|Functional|Fireplaces|FireplaceQu|GarageType|GarageYrBlt|GarageFinish|GarageCars|GarageArea|GarageQual|GarageCond|PavedDrive|WoodDeckSF|OpenPorchSF|EnclosedPorch|3SsnPorch|ScreenPorch|PoolArea|PoolQC|Fence|MiscFeature|MiscVal|MoSold|YrSold|SaleType|SaleCondition|MedNhbdArea|  Id|SalePrice|\n",
            "+----------+--------+-----------+-------+------+-----+--------+-----------+---------+---------+---------+------------+----------+----------+--------+----------+-----------+-----------+---------+------------+---------+--------+-----------+-----------+----------+----------+---------+---------+----------+--------+--------+------------+------------+----------+------------+----------+---------+-----------+-------+---------+----------+----------+--------+--------+------------+---------+------------+------------+--------+--------+------------+------------+-----------+------------+----------+----------+-----------+----------+-----------+------------+----------+----------+----------+----------+----------+----------+-----------+-------------+---------+-----------+--------+------+-----+-----------+-------+------+------+--------+-------------+-----------+----+---------+\n",
            "|        20|      RH|       80.0|  11622|  Pave| NONE|     Reg|        Lvl|   AllPub|   Inside|      Gtl|       NAmes|     Feedr|      Norm|    1Fam|    1Story|          5|          6|     1961|        1961|    Gable| CompShg|    VinylSd|    VinylSd|      None|       0.0|       TA|       TA|    CBlock|      TA|      TA|          No|         Rec|     468.0|         LwQ|     144.0|    270.0|      882.0|   GasA|       TA|         Y|     SBrkr|     896|       0|           0|      896|         0.0|         0.0|       1|       0|           2|           1|         TA|           5|       Typ|         0|       NONE|    Attchd|     1961.0|         Unf|       1.0|     730.0|        TA|        TA|         Y|       140|          0|            0|        0|        120|       0|  NONE|MnPrv|       NONE|      0|     6|  2010|      WD|       Normal|     1200.0|1461|10.488319|\n",
            "|        20|      RL|       81.0|  14267|  Pave| NONE|     IR1|        Lvl|   AllPub|   Corner|      Gtl|       NAmes|      Norm|      Norm|    1Fam|    1Story|          6|          6|     1958|        1958|      Hip| CompShg|    Wd Sdng|    Wd Sdng|   BrkFace|     108.0|       TA|       TA|    CBlock|      TA|      TA|          No|         ALQ|     923.0|         Unf|       0.0|    406.0|     1329.0|   GasA|       TA|         Y|     SBrkr|    1329|       0|           0|     1329|         0.0|         0.0|       1|       1|           3|           1|         Gd|           6|       Typ|         0|       NONE|    Attchd|     1958.0|         Unf|       1.0|     312.0|        TA|        TA|         Y|       393|         36|            0|        0|          0|       0|  NONE| NONE|       Gar2|  12500|     6|  2010|      WD|       Normal|     1200.0|1462|10.490517|\n",
            "|        60|      RL|       74.0|  13830|  Pave| NONE|     IR1|        Lvl|   AllPub|   Inside|      Gtl|     Gilbert|      Norm|      Norm|    1Fam|    2Story|          5|          5|     1997|        1998|    Gable| CompShg|    VinylSd|    VinylSd|      None|       0.0|       TA|       TA|     PConc|      Gd|      TA|          No|         GLQ|     791.0|         Unf|       0.0|    137.0|      928.0|   GasA|       Gd|         Y|     SBrkr|     928|     701|           0|     1629|         0.0|         0.0|       2|       1|           3|           1|         TA|           6|       Typ|         1|         TA|    Attchd|     1997.0|         Fin|       2.0|     482.0|        TA|        TA|         Y|       212|         34|            0|        0|          0|       0|  NONE|MnPrv|       NONE|      0|     3|  2010|      WD|       Normal|     1525.0|1463| 10.48852|\n",
            "|        60|      RL|       78.0|   9978|  Pave| NONE|     IR1|        Lvl|   AllPub|   Inside|      Gtl|     Gilbert|      Norm|      Norm|    1Fam|    2Story|          6|          6|     1998|        1998|    Gable| CompShg|    VinylSd|    VinylSd|   BrkFace|      20.0|       TA|       TA|     PConc|      TA|      TA|          No|         GLQ|     602.0|         Unf|       0.0|    324.0|      926.0|   GasA|       Ex|         Y|     SBrkr|     926|     678|           0|     1604|         0.0|         0.0|       2|       1|           3|           1|         Gd|           7|       Typ|         1|         Gd|    Attchd|     1998.0|         Fin|       2.0|     470.0|        TA|        TA|         Y|       360|         36|            0|        0|          0|       0|  NONE| NONE|       NONE|      0|     6|  2010|      WD|       Normal|     1525.0|1464|10.488248|\n",
            "|       120|      RL|       43.0|   5005|  Pave| NONE|     IR1|        HLS|   AllPub|   Inside|      Gtl|     StoneBr|      Norm|      Norm|  TwnhsE|    1Story|          8|          5|     1992|        1992|    Gable| CompShg|    HdBoard|    HdBoard|      None|       0.0|       Gd|       TA|     PConc|      Gd|      TA|          No|         ALQ|     263.0|         Unf|       0.0|   1017.0|     1280.0|   GasA|       Ex|         Y|     SBrkr|    1280|       0|           0|     1280|         0.0|         0.0|       2|       0|           2|           1|         Gd|           5|       Typ|         0|       NONE|    Attchd|     1992.0|         RFn|       2.0|     506.0|        TA|        TA|         Y|         0|         82|            0|        0|        144|       0|  NONE| NONE|       NONE|      0|     1|  2010|      WD|       Normal|     1942.0|1465|10.489614|\n",
            "|        60|      RL|       75.0|  10000|  Pave| NONE|     IR1|        Lvl|   AllPub|   Corner|      Gtl|     Gilbert|      Norm|      Norm|    1Fam|    2Story|          6|          5|     1993|        1994|    Gable| CompShg|    HdBoard|    HdBoard|      None|       0.0|       TA|       TA|     PConc|      Gd|      TA|          No|         Unf|       0.0|         Unf|       0.0|    763.0|      763.0|   GasA|       Gd|         Y|     SBrkr|     763|     892|           0|     1655|         0.0|         0.0|       2|       1|           3|           1|         TA|           7|       Typ|         1|         TA|    Attchd|     1993.0|         Fin|       2.0|     440.0|        TA|        TA|         Y|       157|         84|            0|        0|          0|       0|  NONE| NONE|       NONE|      0|     4|  2010|      WD|       Normal|     1525.0|1466|10.489756|\n",
            "|        20|      RL|       68.0|   7980|  Pave| NONE|     IR1|        Lvl|   AllPub|   Inside|      Gtl|     Gilbert|      Norm|      Norm|    1Fam|    1Story|          6|          7|     1992|        2007|    Gable| CompShg|    HdBoard|    HdBoard|      None|       0.0|       TA|       Gd|     PConc|      Gd|      TA|          No|         ALQ|     935.0|         Unf|       0.0|    233.0|     1168.0|   GasA|       Ex|         Y|     SBrkr|    1187|       0|           0|     1187|         1.0|         0.0|       2|       0|           3|           1|         TA|           6|       Typ|         0|       NONE|    Attchd|     1992.0|         Fin|       2.0|     420.0|        TA|        TA|         Y|       483|         21|            0|        0|          0|       0|  NONE|GdPrv|       Shed|    500|     3|  2010|      WD|       Normal|     1525.0|1467|10.489576|\n",
            "|        60|      RL|       63.0|   8402|  Pave| NONE|     IR1|        Lvl|   AllPub|   Inside|      Gtl|     Gilbert|      Norm|      Norm|    1Fam|    2Story|          6|          5|     1998|        1998|    Gable| CompShg|    VinylSd|    VinylSd|      None|       0.0|       TA|       TA|     PConc|      Gd|      TA|          No|         Unf|       0.0|         Unf|       0.0|    789.0|      789.0|   GasA|       Gd|         Y|     SBrkr|     789|     676|           0|     1465|         0.0|         0.0|       2|       1|           3|           1|         TA|           7|       Typ|         1|         Gd|    Attchd|     1998.0|         Fin|       2.0|     393.0|        TA|        TA|         Y|         0|         75|            0|        0|          0|       0|  NONE| NONE|       NONE|      0|     5|  2010|      WD|       Normal|     1525.0|1468|10.489756|\n",
            "|        20|      RL|       85.0|  10176|  Pave| NONE|     Reg|        Lvl|   AllPub|   Inside|      Gtl|     Gilbert|      Norm|      Norm|    1Fam|    1Story|          7|          5|     1990|        1990|    Gable| CompShg|    HdBoard|    HdBoard|      None|       0.0|       TA|       TA|     PConc|      Gd|      TA|          Gd|         GLQ|     637.0|         Unf|       0.0|    663.0|     1300.0|   GasA|       Gd|         Y|     SBrkr|    1341|       0|           0|     1341|         1.0|         0.0|       1|       1|           2|           1|         Gd|           5|       Typ|         1|         Po|    Attchd|     1990.0|         Unf|       2.0|     506.0|        TA|        TA|         Y|       192|          0|            0|        0|          0|       0|  NONE| NONE|       NONE|      0|     2|  2010|      WD|       Normal|     1525.0|1469| 10.49061|\n",
            "|        20|      RL|       70.0|   8400|  Pave| NONE|     Reg|        Lvl|   AllPub|   Corner|      Gtl|       NAmes|      Norm|      Norm|    1Fam|    1Story|          4|          5|     1970|        1970|    Gable| CompShg|    Plywood|    Plywood|      None|       0.0|       TA|       TA|    CBlock|      TA|      TA|          No|         ALQ|     804.0|         Rec|      78.0|      0.0|      882.0|   GasA|       TA|         Y|     SBrkr|     882|       0|           0|      882|         1.0|         0.0|       1|       0|           2|           1|         TA|           4|       Typ|         0|       NONE|    Attchd|     1970.0|         Fin|       2.0|     525.0|        TA|        TA|         Y|       240|          0|            0|        0|          0|       0|  NONE|MnPrv|       NONE|      0|     4|  2010|      WD|       Normal|     1200.0|1470|10.488076|\n",
            "|       120|      RH|       26.0|   5858|  Pave| NONE|     IR1|        Lvl|   AllPub|      FR2|      Gtl|       NAmes|      Norm|      Norm|  TwnhsE|    1Story|          7|          5|     1999|        1999|    Gable| CompShg|    MetalSd|    MetalSd|      None|       0.0|       Gd|       TA|     PConc|      Gd|      TA|          No|         GLQ|    1051.0|         BLQ|       0.0|    354.0|     1405.0|   GasA|       Ex|         Y|     SBrkr|    1337|       0|           0|     1337|         1.0|         0.0|       2|       0|           2|           1|         Gd|           5|       Typ|         1|         Fa|    Attchd|     1999.0|         Fin|       2.0|     511.0|        TA|        TA|         Y|       203|         68|            0|        0|          0|       0|  NONE| NONE|       NONE|      0|     6|  2010|      WD|       Normal|     1200.0|1471|10.490882|\n",
            "|       160|      RM|       21.0|   1680|  Pave| NONE|     Reg|        Lvl|   AllPub|   Inside|      Gtl|      BrDale|      Norm|      Norm|   Twnhs|    2Story|          6|          5|     1971|        1971|    Gable| CompShg|    HdBoard|    HdBoard|   BrkFace|     504.0|       TA|       TA|    CBlock|      TA|      TA|          No|         Rec|     156.0|         Unf|       0.0|    327.0|      483.0|   GasA|       TA|         Y|     SBrkr|     483|     504|           0|      987|         0.0|         0.0|       1|       1|           2|           1|         TA|           5|       Typ|         0|       NONE|    Detchd|     1971.0|         Unf|       1.0|     264.0|        TA|        TA|         Y|       275|          0|            0|        0|          0|       0|  NONE| NONE|       NONE|      0|     2|  2010|     COD|       Normal|     1061.0|1472|10.488118|\n",
            "|       160|      RM|       21.0|   1680|  Pave| NONE|     Reg|        Lvl|   AllPub|   Inside|      Gtl|      BrDale|      Norm|      Norm|   Twnhs|    2Story|          5|          5|     1971|        1971|    Gable| CompShg|    HdBoard|    HdBoard|   BrkFace|     492.0|       TA|       TA|    CBlock|      TA|      TA|          No|         Rec|     300.0|         Unf|       0.0|    225.0|      525.0|   GasA|       TA|         Y|     SBrkr|     525|     567|           0|     1092|         0.0|         0.0|       1|       1|           3|           1|         TA|           6|       Typ|         0|       NONE|    Detchd|     1997.0|         Unf|       1.0|     320.0|        TA|        TA|         Y|         0|          0|            0|        0|          0|       0|  NONE| NONE|       NONE|      0|     3|  2010|      WD|       Normal|     1061.0|1473|10.488118|\n",
            "|       160|      RL|       24.0|   2280|  Pave| NONE|     Reg|        Lvl|   AllPub|      FR2|      Gtl|     NPkVill|      Norm|      Norm|   Twnhs|    2Story|          6|          6|     1975|        1975|    Gable| CompShg|    Plywood|    Brk Cmn|      None|       0.0|       TA|       TA|    CBlock|      TA|      TA|          No|         ALQ|     514.0|         Unf|       0.0|    341.0|      855.0|   GasA|       TA|         Y|     SBrkr|     855|     601|           0|     1456|         0.0|         0.0|       2|       1|           3|           1|         Gd|           6|       Typ|         1|         TA|    Attchd|     1975.0|         Unf|       2.0|     440.0|        TA|        TA|         Y|       173|          0|            0|        0|          0|       0|  NONE| NONE|       NONE|      0|     6|  2010|      WD|       Normal|     1262.5|1474|10.488248|\n",
            "|       120|      RL|       24.0|   2280|  Pave| NONE|     Reg|        Lvl|   AllPub|      FR2|      Gtl|     NPkVill|      Norm|      Norm|   Twnhs|    1Story|          7|          6|     1975|        1975|    Gable| CompShg|    Plywood|    Brk Cmn|      None|       0.0|       TA|       TA|    CBlock|      Gd|      TA|          No|         Unf|       0.0|         Unf|       0.0|    836.0|      836.0|   GasA|       Ex|         Y|     SBrkr|     836|       0|           0|      836|         0.0|         0.0|       1|       0|           2|           1|         TA|           4|       Typ|         0|       NONE|    Attchd|     1975.0|         Unf|       1.0|     308.0|        TA|        TA|         Y|         0|         30|            0|        0|          0|       0|  NONE| NONE|       NONE|      0|     6|  2010|      WD|       Normal|     1262.5|1475|10.489626|\n",
            "|        60|      RL|      102.0|  12858|  Pave| NONE|     IR1|        Lvl|   AllPub|   Inside|      Gtl|     NridgHt|      Norm|      Norm|    1Fam|    2Story|          9|          5|     2009|        2010|    Gable| CompShg|    VinylSd|    VinylSd|     Stone|     162.0|       Ex|       TA|     PConc|      Ex|      TA|          No|         Unf|       0.0|         Unf|       0.0|   1590.0|     1590.0|   GasA|       Ex|         Y|     SBrkr|    1627|     707|           0|     2334|         0.0|         0.0|       2|       1|           3|           1|         Ex|          10|       Typ|         1|         Gd|    Attchd|     2009.0|         Fin|       3.0|     751.0|        TA|        TA|         Y|       144|        133|            0|        0|          0|       0|  NONE| NONE|       NONE|      0|     1|  2010|     New|      Partial|     1822.0|1476| 10.49368|\n",
            "|        20|      RL|       94.0|  12883|  Pave| NONE|     IR1|        Lvl|   AllPub|   Corner|      Gtl|     NridgHt|      Norm|      Norm|    1Fam|    1Story|          8|          5|     2009|        2010|    Gable| CompShg|    VinylSd|    VinylSd|     Stone|     256.0|       Gd|       TA|     PConc|      Gd|      TA|          No|         Unf|       0.0|         Unf|       0.0|   1544.0|     1544.0|   GasA|       Ex|         Y|     SBrkr|    1544|       0|           0|     1544|         0.0|         0.0|       2|       0|           3|           1|         Gd|           7|       Typ|         0|       NONE|    Attchd|     2009.0|         RFn|       3.0|     868.0|        TA|        TA|         Y|         0|         35|            0|        0|          0|       0|  NONE| NONE|       NONE|      0|     6|  2010|     New|      Partial|     1822.0|1477|10.491833|\n",
            "|        20|      RL|       90.0|  11520|  Pave| NONE|     Reg|        Lvl|   AllPub|   Inside|      Gtl|     NridgHt|      PosN|      Norm|    1Fam|    1Story|          9|          5|     2005|        2005|      Hip| CompShg|    VinylSd|    VinylSd|   BrkFace|     615.0|       Gd|       TA|     PConc|      Ex|      TA|          No|         GLQ|     110.0|         Unf|       0.0|   1588.0|     1698.0|   GasA|       Ex|         Y|     SBrkr|    1698|       0|           0|     1698|         0.0|         0.0|       2|       0|           3|           1|         Ex|           7|       Typ|         1|         Gd|    Attchd|     2005.0|         Fin|       3.0|     730.0|        TA|        TA|         Y|       192|         74|            0|        0|          0|       0|  NONE| NONE|       NONE|      0|     6|  2010|      WD|       Normal|     1822.0|1478|10.490785|\n",
            "|        20|      RL|       79.0|  14122|  Pave| NONE|     IR1|        Lvl|   AllPub|   Inside|      Gtl|     NridgHt|      Norm|      Norm|    1Fam|    1Story|          8|          5|     2005|        2006|      Hip| CompShg|    CemntBd|    CmentBd|   BrkFace|     240.0|       Gd|       TA|     PConc|      Ex|      TA|          No|         GLQ|      28.0|         Unf|       0.0|   1794.0|     1822.0|   GasA|       Ex|         Y|     SBrkr|    1822|       0|           0|     1822|         0.0|         0.0|       2|       0|           3|           1|         Ex|           8|       Typ|         1|         Gd|    Attchd|     2005.0|         RFn|       3.0|     678.0|        TA|        TA|         Y|         0|        119|            0|        0|          0|       0|  NONE| NONE|       NONE|      0|     2|  2010|      WD|       Normal|     1822.0|1479|10.491493|\n",
            "|        20|      RL|      110.0|  14300|  Pave| NONE|     Reg|        HLS|   AllPub|   Inside|      Mod|     NridgHt|      Norm|      Norm|    1Fam|    1Story|          9|          5|     2003|        2004|      Hip| CompShg|    VinylSd|    VinylSd|   BrkFace|    1095.0|       Ex|       TA|     PConc|      Ex|      TA|          Gd|         GLQ|    1373.0|         Unf|       0.0|   1473.0|     2846.0|   GasA|       Ex|         Y|     SBrkr|    2696|       0|           0|     2696|         1.0|         0.0|       2|       1|           3|           1|         Ex|          10|       Typ|         2|         Gd|    Attchd|     2003.0|         Fin|       3.0|     958.0|        TA|        TA|         Y|       220|        150|            0|        0|          0|       0|  NONE| NONE|       NONE|      0|     6|  2010|      WD|       Normal|     1822.0|1480|10.492496|\n",
            "+----------+--------+-----------+-------+------+-----+--------+-----------+---------+---------+---------+------------+----------+----------+--------+----------+-----------+-----------+---------+------------+---------+--------+-----------+-----------+----------+----------+---------+---------+----------+--------+--------+------------+------------+----------+------------+----------+---------+-----------+-------+---------+----------+----------+--------+--------+------------+---------+------------+------------+--------+--------+------------+------------+-----------+------------+----------+----------+-----------+----------+-----------+------------+----------+----------+----------+----------+----------+----------+-----------+-------------+---------+-----------+--------+------+-----+-----------+-------+------+------+--------+-------------+-----------+----+---------+\n",
            "only showing top 20 rows\n",
            "\n"
          ]
        }
      ]
    },
    {
      "cell_type": "markdown",
      "metadata": {
        "id": "pzLDdyYptIft"
      },
      "source": [
        "# **Persistencia**\n",
        "Generación de Archivo Parquet"
      ]
    },
    {
      "cell_type": "code",
      "metadata": {
        "id": "-xhy6Z87pN4W"
      },
      "source": [
        "# Se genera   Archivo Parquet\n",
        "df_parquet = df_spark.write.parquet(\"/tmp/datatotal01102021.parquet\")\n"
      ],
      "execution_count": 5,
      "outputs": []
    },
    {
      "cell_type": "code",
      "metadata": {
        "colab": {
          "base_uri": "https://localhost:8080/"
        },
        "id": "a55jxAtNv_gW",
        "outputId": "77e11e81-638c-4f82-d77b-a8d77a879a46"
      },
      "source": [
        "# Consultas SQL sobre Archivo Parquet \n",
        "df_parquet_read = spark.read.parquet(\"/tmp/datatotal01102021.parquet\")\n",
        "df_parquet_read.createOrReplaceTempView(\"propiedades\")\n",
        "spark.sql(\"select count(Id) from propiedades\").show()"
      ],
      "execution_count": 6,
      "outputs": [
        {
          "output_type": "stream",
          "name": "stdout",
          "text": [
            "+---------+\n",
            "|count(Id)|\n",
            "+---------+\n",
            "|     1459|\n",
            "+---------+\n",
            "\n"
          ]
        }
      ]
    },
    {
      "cell_type": "code",
      "metadata": {
        "colab": {
          "base_uri": "https://localhost:8080/"
        },
        "id": "K66D2X40w-DQ",
        "outputId": "4bde331b-613d-4aed-87f1-cc261f1566f7"
      },
      "source": [
        "spark.sql(\"select * from propiedades where Neighborhood = 'Gilbert'\").show(truncate=False)"
      ],
      "execution_count": 10,
      "outputs": [
        {
          "output_type": "stream",
          "name": "stdout",
          "text": [
            "+----------+--------+-----------+-------+------+-----+--------+-----------+---------+---------+---------+------------+----------+----------+--------+----------+-----------+-----------+---------+------------+---------+--------+-----------+-----------+----------+----------+---------+---------+----------+--------+--------+------------+------------+----------+------------+----------+---------+-----------+-------+---------+----------+----------+--------+--------+------------+---------+------------+------------+--------+--------+------------+------------+-----------+------------+----------+----------+-----------+----------+-----------+------------+----------+----------+----------+----------+----------+----------+-----------+-------------+---------+-----------+--------+------+-----+-----------+-------+------+------+--------+-------------+-----------+----+----------+\n",
            "|MSSubClass|MSZoning|LotFrontage|LotArea|Street|Alley|LotShape|LandContour|Utilities|LotConfig|LandSlope|Neighborhood|Condition1|Condition2|BldgType|HouseStyle|OverallQual|OverallCond|YearBuilt|YearRemodAdd|RoofStyle|RoofMatl|Exterior1st|Exterior2nd|MasVnrType|MasVnrArea|ExterQual|ExterCond|Foundation|BsmtQual|BsmtCond|BsmtExposure|BsmtFinType1|BsmtFinSF1|BsmtFinType2|BsmtFinSF2|BsmtUnfSF|TotalBsmtSF|Heating|HeatingQC|CentralAir|Electrical|1stFlrSF|2ndFlrSF|LowQualFinSF|GrLivArea|BsmtFullBath|BsmtHalfBath|FullBath|HalfBath|BedroomAbvGr|KitchenAbvGr|KitchenQual|TotRmsAbvGrd|Functional|Fireplaces|FireplaceQu|GarageType|GarageYrBlt|GarageFinish|GarageCars|GarageArea|GarageQual|GarageCond|PavedDrive|WoodDeckSF|OpenPorchSF|EnclosedPorch|3SsnPorch|ScreenPorch|PoolArea|PoolQC|Fence|MiscFeature|MiscVal|MoSold|YrSold|SaleType|SaleCondition|MedNhbdArea|Id  |SalePrice |\n",
            "+----------+--------+-----------+-------+------+-----+--------+-----------+---------+---------+---------+------------+----------+----------+--------+----------+-----------+-----------+---------+------------+---------+--------+-----------+-----------+----------+----------+---------+---------+----------+--------+--------+------------+------------+----------+------------+----------+---------+-----------+-------+---------+----------+----------+--------+--------+------------+---------+------------+------------+--------+--------+------------+------------+-----------+------------+----------+----------+-----------+----------+-----------+------------+----------+----------+----------+----------+----------+----------+-----------+-------------+---------+-----------+--------+------+-----+-----------+-------+------+------+--------+-------------+-----------+----+----------+\n",
            "|60        |RL      |74.0       |13830  |Pave  |NONE |IR1     |Lvl        |AllPub   |Inside   |Gtl      |Gilbert     |Norm      |Norm      |1Fam    |2Story    |5          |5          |1997     |1998        |Gable    |CompShg |VinylSd    |VinylSd    |None      |0.0       |TA       |TA       |PConc     |Gd      |TA      |No          |GLQ         |791.0     |Unf         |0.0       |137.0    |928.0      |GasA   |Gd       |Y         |SBrkr     |928     |701     |0           |1629     |0.0         |0.0         |2       |1       |3           |1           |TA         |6           |Typ       |1         |TA         |Attchd    |1997.0     |Fin         |2.0       |482.0     |TA        |TA        |Y         |212       |34         |0            |0        |0          |0       |NONE  |MnPrv|NONE       |0      |3     |2010  |WD      |Normal       |1525.0     |1463|10.48852  |\n",
            "|60        |RL      |78.0       |9978   |Pave  |NONE |IR1     |Lvl        |AllPub   |Inside   |Gtl      |Gilbert     |Norm      |Norm      |1Fam    |2Story    |6          |6          |1998     |1998        |Gable    |CompShg |VinylSd    |VinylSd    |BrkFace   |20.0      |TA       |TA       |PConc     |TA      |TA      |No          |GLQ         |602.0     |Unf         |0.0       |324.0    |926.0      |GasA   |Ex       |Y         |SBrkr     |926     |678     |0           |1604     |0.0         |0.0         |2       |1       |3           |1           |Gd         |7           |Typ       |1         |Gd         |Attchd    |1998.0     |Fin         |2.0       |470.0     |TA        |TA        |Y         |360       |36         |0            |0        |0          |0       |NONE  |NONE |NONE       |0      |6     |2010  |WD      |Normal       |1525.0     |1464|10.488248 |\n",
            "|60        |RL      |75.0       |10000  |Pave  |NONE |IR1     |Lvl        |AllPub   |Corner   |Gtl      |Gilbert     |Norm      |Norm      |1Fam    |2Story    |6          |5          |1993     |1994        |Gable    |CompShg |HdBoard    |HdBoard    |None      |0.0       |TA       |TA       |PConc     |Gd      |TA      |No          |Unf         |0.0       |Unf         |0.0       |763.0    |763.0      |GasA   |Gd       |Y         |SBrkr     |763     |892     |0           |1655     |0.0         |0.0         |2       |1       |3           |1           |TA         |7           |Typ       |1         |TA         |Attchd    |1993.0     |Fin         |2.0       |440.0     |TA        |TA        |Y         |157       |84         |0            |0        |0          |0       |NONE  |NONE |NONE       |0      |4     |2010  |WD      |Normal       |1525.0     |1466|10.489756 |\n",
            "|20        |RL      |68.0       |7980   |Pave  |NONE |IR1     |Lvl        |AllPub   |Inside   |Gtl      |Gilbert     |Norm      |Norm      |1Fam    |1Story    |6          |7          |1992     |2007        |Gable    |CompShg |HdBoard    |HdBoard    |None      |0.0       |TA       |Gd       |PConc     |Gd      |TA      |No          |ALQ         |935.0     |Unf         |0.0       |233.0    |1168.0     |GasA   |Ex       |Y         |SBrkr     |1187    |0       |0           |1187     |1.0         |0.0         |2       |0       |3           |1           |TA         |6           |Typ       |0         |NONE       |Attchd    |1992.0     |Fin         |2.0       |420.0     |TA        |TA        |Y         |483       |21         |0            |0        |0          |0       |NONE  |GdPrv|Shed       |500    |3     |2010  |WD      |Normal       |1525.0     |1467|10.489576 |\n",
            "|60        |RL      |63.0       |8402   |Pave  |NONE |IR1     |Lvl        |AllPub   |Inside   |Gtl      |Gilbert     |Norm      |Norm      |1Fam    |2Story    |6          |5          |1998     |1998        |Gable    |CompShg |VinylSd    |VinylSd    |None      |0.0       |TA       |TA       |PConc     |Gd      |TA      |No          |Unf         |0.0       |Unf         |0.0       |789.0    |789.0      |GasA   |Gd       |Y         |SBrkr     |789     |676     |0           |1465     |0.0         |0.0         |2       |1       |3           |1           |TA         |7           |Typ       |1         |Gd         |Attchd    |1998.0     |Fin         |2.0       |393.0     |TA        |TA        |Y         |0         |75         |0            |0        |0          |0       |NONE  |NONE |NONE       |0      |5     |2010  |WD      |Normal       |1525.0     |1468|10.489756 |\n",
            "|20        |RL      |85.0       |10176  |Pave  |NONE |Reg     |Lvl        |AllPub   |Inside   |Gtl      |Gilbert     |Norm      |Norm      |1Fam    |1Story    |7          |5          |1990     |1990        |Gable    |CompShg |HdBoard    |HdBoard    |None      |0.0       |TA       |TA       |PConc     |Gd      |TA      |Gd          |GLQ         |637.0     |Unf         |0.0       |663.0    |1300.0     |GasA   |Gd       |Y         |SBrkr     |1341    |0       |0           |1341     |1.0         |0.0         |1       |1       |2           |1           |Gd         |5           |Typ       |1         |Po         |Attchd    |1990.0     |Unf         |2.0       |506.0     |TA        |TA        |Y         |192       |0          |0            |0        |0          |0       |NONE  |NONE |NONE       |0      |2     |2010  |WD      |Normal       |1525.0     |1469|10.49061  |\n",
            "|20        |RL      |100.0      |18494  |Pave  |NONE |IR1     |Lvl        |AllPub   |Corner   |Gtl      |Gilbert     |Norm      |Norm      |1Fam    |1Story    |6          |5          |2005     |2005        |Gable    |CompShg |VinylSd    |VinylSd    |None      |0.0       |Gd       |TA       |PConc     |Gd      |TA      |No          |Unf         |0.0       |Unf         |0.0       |1324.0   |1324.0     |GasA   |Ex       |Y         |SBrkr     |1324    |0       |0           |1324     |0.0         |0.0         |2       |0       |3           |1           |Gd         |6           |Typ       |0         |NONE       |Attchd    |2005.0     |Fin         |2.0       |430.0     |TA        |TA        |Y         |36        |23         |0            |0        |0          |0       |NONE  |NONE |NONE       |0      |1     |2010  |WD      |Normal       |1525.0     |1483|10.494371 |\n",
            "|80        |RL      |67.0       |13300  |Pave  |NONE |IR1     |Lvl        |AllPub   |Inside   |Gtl      |Gilbert     |Norm      |Norm      |1Fam    |SLvl      |7          |5          |2004     |2004        |Gable    |CompShg |VinylSd    |VinylSd    |None      |0.0       |Gd       |TA       |PConc     |Gd      |TA      |No          |GLQ         |326.0     |Unf         |0.0       |58.0     |384.0      |GasA   |Ex       |Y         |SBrkr     |744     |630     |0           |1374     |1.0         |0.0         |2       |1       |3           |1           |Gd         |7           |Typ       |1         |Gd         |BuiltIn   |2004.0     |Fin         |2.0       |400.0     |TA        |TA        |Y         |100       |0          |0            |0        |0          |0       |NONE  |NONE |NONE       |0      |6     |2010  |WD      |Normal       |1525.0     |1485|10.48884  |\n",
            "|60        |RL      |63.0       |8577   |Pave  |NONE |IR1     |Lvl        |AllPub   |Inside   |Gtl      |Gilbert     |Norm      |Norm      |1Fam    |2Story    |7          |5          |2004     |2004        |Gable    |CompShg |VinylSd    |VinylSd    |None      |0.0       |Gd       |TA       |PConc     |Gd      |TA      |No          |Unf         |0.0       |Unf         |0.0       |847.0    |847.0      |GasA   |Ex       |Y         |SBrkr     |847     |886     |0           |1733     |0.0         |0.0         |2       |1       |3           |1           |Gd         |7           |Typ       |1         |Gd         |BuiltIn   |2004.0     |Fin         |2.0       |433.0     |TA        |TA        |Y         |144       |48         |0            |0        |0          |0       |NONE  |NONE |NONE       |0      |4     |2010  |WD      |Normal       |1525.0     |1486|10.491362 |\n",
            "|60        |RL      |88.0       |10179  |Pave  |NONE |IR1     |Lvl        |AllPub   |Corner   |Gtl      |Gilbert     |Norm      |Norm      |1Fam    |2Story    |6          |5          |1997     |1997        |Gable    |CompShg |VinylSd    |VinylSd    |None      |0.0       |TA       |TA       |PConc     |Gd      |TA      |No          |ALQ         |847.0     |Unf         |0.0       |98.0     |945.0      |GasA   |Ex       |Y         |SBrkr     |945     |663     |0           |1608     |0.0         |0.0         |2       |1       |3           |1           |TA         |7           |Typ       |1         |TA         |Attchd    |1997.0     |Fin         |2.0       |470.0     |TA        |TA        |Y         |252       |30         |0            |0        |0          |0       |NONE  |NONE |NONE       |0      |7     |2009  |WD      |Normal       |1525.0     |1627|10.488646 |\n",
            "|60        |RL      |68.0       |11792  |Pave  |NONE |IR1     |Lvl        |AllPub   |Inside   |Gtl      |Gilbert     |Norm      |Norm      |1Fam    |2Story    |8          |5          |2003     |2003        |Gable    |CompShg |VinylSd    |VinylSd    |BrkFace   |188.0     |Gd       |TA       |PConc     |Gd      |TA      |Gd          |GLQ         |850.0     |Unf         |0.0       |158.0    |1008.0     |GasA   |Ex       |Y         |SBrkr     |1008    |1275    |0           |2283     |0.0         |0.0         |2       |1       |4           |1           |Gd         |9           |Typ       |1         |Gd         |BuiltIn   |2003.0     |Fin         |3.0       |632.0     |TA        |TA        |Y         |120       |46         |0            |0        |0          |0       |NONE  |NONE |NONE       |0      |8     |2009  |WD      |Normal       |1525.0     |1628|10.489407 |\n",
            "|80        |RL      |60.0       |8400   |Pave  |NONE |Reg     |Lvl        |AllPub   |Inside   |Gtl      |Gilbert     |Norm      |Norm      |1Fam    |SLvl      |7          |5          |1996     |1997        |Gable    |CompShg |HdBoard    |HdBoard    |BrkFace   |32.0      |TA       |TA       |PConc     |Gd      |TA      |No          |GLQ         |284.0     |Unf         |0.0       |100.0    |384.0      |GasA   |Gd       |Y         |SBrkr     |958     |670     |0           |1628     |0.0         |0.0         |2       |1       |3           |1           |TA         |7           |Typ       |1         |TA         |BuiltIn   |1996.0     |Fin         |2.0       |390.0     |TA        |TA        |Y         |48        |72         |0            |0        |0          |0       |NONE  |NONE |Shed       |490    |6     |2009  |WD      |Normal       |1525.0     |1629|10.488248 |\n",
            "|80        |RL      |57.0       |8923   |Pave  |NONE |IR1     |Lvl        |AllPub   |Inside   |Gtl      |Gilbert     |Norm      |Norm      |1Fam    |SLvl      |7          |5          |1998     |1998        |Gable    |CompShg |VinylSd    |VinylSd    |None      |0.0       |Gd       |TA       |PConc     |Gd      |TA      |No          |GLQ         |189.0     |Unf         |0.0       |195.0    |384.0      |GasA   |Gd       |Y         |SBrkr     |751     |631     |0           |1382     |0.0         |0.0         |2       |1       |3           |1           |TA         |7           |Typ       |1         |TA         |BuiltIn   |1998.0     |Fin         |2.0       |396.0     |TA        |TA        |Y         |256       |0          |0            |0        |0          |0       |NONE  |NONE |NONE       |0      |2     |2009  |WD      |Normal       |1525.0     |1633|10.488248 |\n",
            "|60        |RL      |60.0       |7500   |Pave  |NONE |Reg     |Lvl        |AllPub   |Inside   |Gtl      |Gilbert     |Norm      |Norm      |1Fam    |2Story    |6          |5          |1998     |1999        |Gable    |CompShg |VinylSd    |VinylSd    |None      |0.0       |Gd       |TA       |PConc     |Gd      |TA      |No          |GLQ         |476.0     |Unf         |0.0       |476.0    |952.0      |GasA   |Gd       |Y         |SBrkr     |952     |684     |0           |1636     |1.0         |0.0         |2       |1       |3           |1           |TA         |7           |Typ       |1         |TA         |Attchd    |1998.0     |Fin         |2.0       |440.0     |TA        |TA        |Y         |0         |84         |0            |0        |0          |0       |NONE  |NONE |NONE       |0      |10    |2009  |WD      |Normal       |1525.0     |1634|10.488374 |\n",
            "|60        |RL      |68.0       |8803   |Pave  |NONE |IR1     |Lvl        |AllPub   |Inside   |Gtl      |Gilbert     |Norm      |Norm      |1Fam    |2Story    |6          |5          |1994     |1995        |Gable    |CompShg |HdBoard    |HdBoard    |None      |0.0       |TA       |TA       |PConc     |Gd      |TA      |No          |GLQ         |600.0     |Unf         |0.0       |107.0    |707.0      |GasA   |Gd       |Y         |SBrkr     |707     |809     |0           |1516     |1.0         |0.0         |2       |1       |3           |1           |Gd         |7           |Typ       |1         |TA         |Attchd    |1994.0     |Fin         |2.0       |409.0     |TA        |TA        |Y         |0         |46         |0            |0        |0          |0       |NONE  |NONE |NONE       |0      |7     |2009  |WD      |Normal       |1525.0     |1635|10.488374 |\n",
            "|20        |RL      |58.0       |7250   |Pave  |NONE |Reg     |Lvl        |AllPub   |Inside   |Gtl      |Gilbert     |Norm      |Norm      |1Fam    |1Story    |6          |5          |1993     |1993        |Gable    |CompShg |HdBoard    |HdBoard    |BrkFace   |45.0      |TA       |TA       |PConc     |Gd      |TA      |No          |Unf         |0.0       |Unf         |0.0       |1181.0   |1181.0     |GasA   |Ex       |Y         |SBrkr     |1190    |0       |0           |1190     |0.0         |0.0         |2       |0       |3           |1           |Gd         |6           |Typ       |1         |TA         |Attchd    |1993.0     |Unf         |2.0       |430.0     |TA        |TA        |Y         |0         |21         |0            |0        |0          |0       |NONE  |NONE |NONE       |0      |11    |2009  |WD      |Normal       |1525.0     |1636|10.4898815|\n",
            "|60        |RL      |85.0       |11900  |Pave  |NONE |Reg     |Lvl        |AllPub   |Inside   |Gtl      |Gilbert     |Norm      |Norm      |1Fam    |2Story    |5          |6          |1977     |1977        |Gable    |CompShg |HdBoard    |Wd Sdng    |BrkFace   |157.0     |TA       |TA       |PConc     |Gd      |TA      |No          |ALQ         |400.0     |Unf         |0.0       |722.0    |1122.0     |GasA   |Ex       |Y         |SBrkr     |946     |988     |0           |1934     |1.0         |0.0         |2       |1       |3           |1           |TA         |6           |Typ       |1         |TA         |Attchd    |1977.0     |Unf         |2.0       |567.0     |TA        |TA        |P         |0         |176        |0            |0        |200        |0       |NONE  |NONE |NONE       |0      |7     |2009  |WD      |Normal       |1525.0     |1637|10.488575 |\n",
            "|60        |RL      |63.0       |10928  |Pave  |NONE |Reg     |Lvl        |AllPub   |Inside   |Gtl      |Gilbert     |RRAn      |Norm      |1Fam    |2Story    |7          |5          |2005     |2005        |Gable    |CompShg |VinylSd    |VinylSd    |None      |0.0       |Gd       |TA       |PConc     |Gd      |Gd      |No          |Unf         |0.0       |Unf         |0.0       |728.0    |728.0      |GasA   |Ex       |Y         |SBrkr     |728     |728     |0           |1456     |0.0         |0.0         |2       |1       |3           |1           |Gd         |8           |Typ       |1         |Gd         |Attchd    |2005.0     |Fin         |2.0       |390.0     |TA        |TA        |Y         |100       |0          |0            |0        |0          |0       |NONE  |NONE |NONE       |0      |6     |2009  |WD      |Normal       |1525.0     |1684|10.491362 |\n",
            "|60        |RL      |57.0       |8918   |Pave  |NONE |IR1     |Lvl        |AllPub   |Inside   |Gtl      |Gilbert     |Norm      |Norm      |1Fam    |2Story    |6          |5          |2005     |2006        |Gable    |CompShg |VinylSd    |VinylSd    |None      |0.0       |Gd       |TA       |PConc     |Gd      |TA      |Av          |Unf         |0.0       |Unf         |0.0       |745.0    |745.0      |GasA   |Ex       |Y         |SBrkr     |745     |745     |0           |1490     |0.0         |0.0         |2       |1       |3           |1           |Gd         |7           |Typ       |1         |Gd         |Attchd    |2005.0     |Fin         |2.0       |392.0     |TA        |TA        |Y         |36        |20         |0            |0        |0          |0       |NONE  |NONE |NONE       |0      |7     |2009  |WD      |Normal       |1525.0     |1685|10.4914875|\n",
            "|80        |RL      |59.0       |9434   |Pave  |NONE |IR1     |Lvl        |AllPub   |Inside   |Gtl      |Gilbert     |Norm      |Norm      |1Fam    |SLvl      |7          |5          |2004     |2005        |Gable    |CompShg |WdShing    |Wd Shng    |None      |0.0       |Gd       |TA       |PConc     |Gd      |TA      |Mn          |Unf         |0.0       |Unf         |0.0       |384.0    |384.0      |GasA   |Ex       |Y         |SBrkr     |744     |630     |0           |1374     |0.0         |0.0         |2       |1       |3           |1           |Gd         |6           |Typ       |1         |Gd         |BuiltIn   |2004.0     |Fin         |2.0       |400.0     |TA        |TA        |Y         |100       |0          |0            |0        |0          |0       |NONE  |NONE |NONE       |0      |8     |2009  |WD      |Normal       |1525.0     |1687|10.4914875|\n",
            "+----------+--------+-----------+-------+------+-----+--------+-----------+---------+---------+---------+------------+----------+----------+--------+----------+-----------+-----------+---------+------------+---------+--------+-----------+-----------+----------+----------+---------+---------+----------+--------+--------+------------+------------+----------+------------+----------+---------+-----------+-------+---------+----------+----------+--------+--------+------------+---------+------------+------------+--------+--------+------------+------------+-----------+------------+----------+----------+-----------+----------+-----------+------------+----------+----------+----------+----------+----------+----------+-----------+-------------+---------+-----------+--------+------+-----+-----------+-------+------+------+--------+-------------+-----------+----+----------+\n",
            "only showing top 20 rows\n",
            "\n"
          ]
        }
      ]
    },
    {
      "cell_type": "markdown",
      "metadata": {
        "id": "8ThKyyjayj6y"
      },
      "source": [
        "Se observa que en la tabla parquet los datos deberian reprocesarse por ejemplo la columna GarageYrBlt corresponde al año y esta en formato decimal \"2005.0\""
      ]
    }
  ]
}